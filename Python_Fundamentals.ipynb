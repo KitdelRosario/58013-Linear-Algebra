{
  "nbformat": 4,
  "nbformat_minor": 0,
  "metadata": {
    "colab": {
      "provenance": [],
      "authorship_tag": "ABX9TyN4f57Agaf7t7clNQEJqVSc",
      "include_colab_link": true
    },
    "kernelspec": {
      "name": "python3",
      "display_name": "Python 3"
    },
    "language_info": {
      "name": "python"
    }
  },
  "cells": [
    {
      "cell_type": "markdown",
      "metadata": {
        "id": "view-in-github",
        "colab_type": "text"
      },
      "source": [
        "<a href=\"https://colab.research.google.com/github/KitdelRosario/58013-Linear-Algebra/blob/main/Python_Fundamentals.ipynb\" target=\"_parent\"><img src=\"https://colab.research.google.com/assets/colab-badge.svg\" alt=\"Open In Colab\"/></a>"
      ]
    },
    {
      "cell_type": "markdown",
      "source": [
        "***Variable and Data Types***"
      ],
      "metadata": {
        "id": "c0lss3gAaJyV"
      }
    },
    {
      "cell_type": "code",
      "source": [
        "x = 1\n",
        "a,b = 0,-1\n",
        "\n",
        "type(x)\n",
        "\n",
        "y = 1.0\n",
        "type(y)\n",
        "\n",
        "x = float(x)\n",
        "type(x)\n",
        "\n",
        "s,t,u = \"0\",'1','one'\n",
        "type(s)\n",
        "\n",
        "s_int = int(s)\n",
        "s_int"
      ],
      "metadata": {
        "colab": {
          "base_uri": "https://localhost:8080/"
        },
        "id": "n4_sqx9UaNhG",
        "outputId": "bdd5893a-acc8-4c57-b2c5-e39b41213c98"
      },
      "execution_count": 1,
      "outputs": [
        {
          "output_type": "execute_result",
          "data": {
            "text/plain": [
              "0"
            ]
          },
          "metadata": {},
          "execution_count": 1
        }
      ]
    },
    {
      "cell_type": "markdown",
      "source": [
        "***Arithmetic Operations***"
      ],
      "metadata": {
        "id": "q4VQhHDvanKt"
      }
    },
    {
      "cell_type": "code",
      "source": [
        "a,b,c,d = 2.0,-0.5,0,-32\n",
        "\n",
        "###Addition\n",
        "\n",
        "S = a+b\n",
        "S"
      ],
      "metadata": {
        "colab": {
          "base_uri": "https://localhost:8080/"
        },
        "id": "z_xRGVk0apTN",
        "outputId": "57b67c81-d9c1-442d-cd40-9249c85a952d"
      },
      "execution_count": 8,
      "outputs": [
        {
          "output_type": "execute_result",
          "data": {
            "text/plain": [
              "1.5"
            ]
          },
          "metadata": {},
          "execution_count": 8
        }
      ]
    },
    {
      "cell_type": "code",
      "source": [
        "###Subtraction\n",
        "D = b-d\n",
        "D"
      ],
      "metadata": {
        "id": "ekFghrGTbRhJ"
      },
      "execution_count": null,
      "outputs": []
    },
    {
      "cell_type": "code",
      "source": [
        "###Multiplication\n",
        "P = a*d\n",
        "P\n"
      ],
      "metadata": {
        "colab": {
          "base_uri": "https://localhost:8080/"
        },
        "id": "0FZkDJ9BbS6u",
        "outputId": "2a503df7-5061-4161-fc60-557140435ef7"
      },
      "execution_count": 7,
      "outputs": [
        {
          "output_type": "execute_result",
          "data": {
            "text/plain": [
              "-64.0"
            ]
          },
          "metadata": {},
          "execution_count": 7
        }
      ]
    },
    {
      "cell_type": "code",
      "source": [
        "###Division\n",
        "Q = c/a\n",
        "Q"
      ],
      "metadata": {
        "colab": {
          "base_uri": "https://localhost:8080/"
        },
        "id": "Ran11uDDbV_p",
        "outputId": "634b8597-1f23-49fb-8bfc-f42801f4bef8"
      },
      "execution_count": 6,
      "outputs": [
        {
          "output_type": "execute_result",
          "data": {
            "text/plain": [
              "0.0"
            ]
          },
          "metadata": {},
          "execution_count": 6
        }
      ]
    },
    {
      "cell_type": "code",
      "source": [
        "###Exponentiation\n",
        "E = a**b\n",
        "E"
      ],
      "metadata": {
        "colab": {
          "base_uri": "https://localhost:8080/"
        },
        "id": "cKwIyGWNbX0R",
        "outputId": "ddfa0c7b-0821-404a-a58b-47348a300581"
      },
      "execution_count": 5,
      "outputs": [
        {
          "output_type": "execute_result",
          "data": {
            "text/plain": [
              "0.7071067811865476"
            ]
          },
          "metadata": {},
          "execution_count": 5
        }
      ]
    },
    {
      "cell_type": "code",
      "source": [
        "###Modulo\n",
        "mod = d%a\n",
        "mod"
      ],
      "metadata": {
        "colab": {
          "base_uri": "https://localhost:8080/"
        },
        "id": "B7YUaBZubZpV",
        "outputId": "a18a73a5-1e4d-41d1-a34e-5117ec4e96c8"
      },
      "execution_count": 4,
      "outputs": [
        {
          "output_type": "execute_result",
          "data": {
            "text/plain": [
              "0.0"
            ]
          },
          "metadata": {},
          "execution_count": 4
        }
      ]
    },
    {
      "cell_type": "markdown",
      "source": [
        "***Comparators***"
      ],
      "metadata": {
        "id": "CTH3ESA-bh7W"
      }
    },
    {
      "cell_type": "code",
      "source": [
        "res_1,res_2,res_3 = 1,2.0,\"1\"\n",
        "true_val = 1.0\n",
        "\n",
        "##Equality\n",
        "res_1 == true_val\n"
      ],
      "metadata": {
        "colab": {
          "base_uri": "https://localhost:8080/"
        },
        "id": "HB80VlTvbjkD",
        "outputId": "23f922e5-dee5-4681-d69d-945d70f40d83"
      },
      "execution_count": 9,
      "outputs": [
        {
          "output_type": "execute_result",
          "data": {
            "text/plain": [
              "True"
            ]
          },
          "metadata": {},
          "execution_count": 9
        }
      ]
    },
    {
      "cell_type": "code",
      "source": [
        "##Non-equality\n",
        "res_2 != true_val"
      ],
      "metadata": {
        "colab": {
          "base_uri": "https://localhost:8080/"
        },
        "id": "5Aijwq6VcRks",
        "outputId": "0455a423-fc82-4fab-9e83-abff1fe412a6"
      },
      "execution_count": 10,
      "outputs": [
        {
          "output_type": "execute_result",
          "data": {
            "text/plain": [
              "True"
            ]
          },
          "metadata": {},
          "execution_count": 10
        }
      ]
    },
    {
      "cell_type": "code",
      "source": [
        "##Inequality\n",
        "t1 = res_1>res_2\n",
        "t2 = res_1<res_2/2\n",
        "t3 = res_1>=res_2/2\n",
        "t4 = res_1<=res_2\n",
        "t1"
      ],
      "metadata": {
        "colab": {
          "base_uri": "https://localhost:8080/"
        },
        "id": "hpyiM_6rcZCf",
        "outputId": "62bab571-ce2c-415e-dd77-b6c06eed54d6"
      },
      "execution_count": 11,
      "outputs": [
        {
          "output_type": "execute_result",
          "data": {
            "text/plain": [
              "False"
            ]
          },
          "metadata": {},
          "execution_count": 11
        }
      ]
    },
    {
      "cell_type": "markdown",
      "source": [
        "***Logical***"
      ],
      "metadata": {
        "id": "jAUDTP-2czSR"
      }
    },
    {
      "cell_type": "code",
      "source": [
        "res_1 == true_val\n",
        "res_1 is true_val\n",
        "res_1 is not true_val"
      ],
      "metadata": {
        "colab": {
          "base_uri": "https://localhost:8080/"
        },
        "id": "bqZr_y2Ac0yP",
        "outputId": "564cd74e-3df8-430c-b30c-317fdfa44a19"
      },
      "execution_count": 13,
      "outputs": [
        {
          "output_type": "execute_result",
          "data": {
            "text/plain": [
              "True"
            ]
          },
          "metadata": {},
          "execution_count": 13
        }
      ]
    },
    {
      "cell_type": "code",
      "source": [
        "p, q = True, False\n",
        "conj = p and q\n",
        "conj"
      ],
      "metadata": {
        "colab": {
          "base_uri": "https://localhost:8080/"
        },
        "id": "jiH9VF5gdXnj",
        "outputId": "77b19c60-87b9-468f-adce-2f8e6447ecfb"
      },
      "execution_count": 14,
      "outputs": [
        {
          "output_type": "execute_result",
          "data": {
            "text/plain": [
              "False"
            ]
          },
          "metadata": {},
          "execution_count": 14
        }
      ]
    },
    {
      "cell_type": "code",
      "source": [
        "p, q = True, False\n",
        "disj = p or q\n",
        "disj"
      ],
      "metadata": {
        "colab": {
          "base_uri": "https://localhost:8080/"
        },
        "id": "SdNRaOWadZX0",
        "outputId": "2d7841f5-c6ed-47b1-c089-6ffd1892cbf9"
      },
      "execution_count": 15,
      "outputs": [
        {
          "output_type": "execute_result",
          "data": {
            "text/plain": [
              "True"
            ]
          },
          "metadata": {},
          "execution_count": 15
        }
      ]
    },
    {
      "cell_type": "code",
      "source": [
        "p, q = True, False\n",
        "nand = not(p and q)\n",
        "nand"
      ],
      "metadata": {
        "colab": {
          "base_uri": "https://localhost:8080/"
        },
        "id": "YcYCHnvEdboD",
        "outputId": "86c5a993-2d7a-4a01-a5d4-23e4a2c71846"
      },
      "execution_count": 16,
      "outputs": [
        {
          "output_type": "execute_result",
          "data": {
            "text/plain": [
              "True"
            ]
          },
          "metadata": {},
          "execution_count": 16
        }
      ]
    },
    {
      "cell_type": "code",
      "source": [
        "p, q = True, False\n",
        "xor = (not p and q) or (p and not q)\n",
        "xor"
      ],
      "metadata": {
        "colab": {
          "base_uri": "https://localhost:8080/"
        },
        "id": "BLmuU1arddgj",
        "outputId": "8a52a2ea-a081-4edb-ac27-56e3c4a7ba9b"
      },
      "execution_count": 17,
      "outputs": [
        {
          "output_type": "execute_result",
          "data": {
            "text/plain": [
              "True"
            ]
          },
          "metadata": {},
          "execution_count": 17
        }
      ]
    },
    {
      "cell_type": "markdown",
      "source": [
        "***Input and Output Operations***"
      ],
      "metadata": {
        "id": "fhn3QA7Cdz1R"
      }
    },
    {
      "cell_type": "code",
      "source": [
        "print(\"Hello World\")"
      ],
      "metadata": {
        "colab": {
          "base_uri": "https://localhost:8080/"
        },
        "id": "Gr1IkWy5d3z5",
        "outputId": "8c5b02f2-713f-4796-f255-bea23c9f49cb"
      },
      "execution_count": 18,
      "outputs": [
        {
          "output_type": "stream",
          "name": "stdout",
          "text": [
            "Hello World\n"
          ]
        }
      ]
    },
    {
      "cell_type": "code",
      "source": [
        "cnt = 1\n",
        "string = \"Hello World\"\n",
        "print(string, \", Current run count is:\", cnt)\n",
        "cnt += 1\n",
        "print(f\"{string}, Current count is: {cnt}\")"
      ],
      "metadata": {
        "colab": {
          "base_uri": "https://localhost:8080/"
        },
        "id": "W_uBZ3Z5d_WY",
        "outputId": "66f708ef-ec0c-4347-c78a-8a5e9f121e67"
      },
      "execution_count": 20,
      "outputs": [
        {
          "output_type": "stream",
          "name": "stdout",
          "text": [
            "Hello World , Current run count is: 1\n",
            "Hello World, Current count is: 2\n"
          ]
        }
      ]
    },
    {
      "cell_type": "code",
      "source": [
        "sem_grade = 82.243564657461234\n",
        "name = \"\"\n",
        "print(\"Hello {}, your semestral grade is: {}\".format(name, sem_grade))"
      ],
      "metadata": {
        "colab": {
          "base_uri": "https://localhost:8080/"
        },
        "id": "1ZOIglB_eGLD",
        "outputId": "e3ce2595-22e8-4e3c-c50f-c9639673f068"
      },
      "execution_count": 21,
      "outputs": [
        {
          "output_type": "stream",
          "name": "stdout",
          "text": [
            "Hello , your semestral grade is: 82.24356465746123\n"
          ]
        }
      ]
    },
    {
      "cell_type": "code",
      "source": [
        "w_pg, w_mg, w_fg = 0.3, 0.3, 0.4\n",
        "print(\"The weights of your semestral grades are:\\\n",
        "\\n\\t{:.2%} for Prelims\\\n",
        "\\n\\t{:.2%} for Midterms, and\\\n",
        "\\n\\t{:.2%} for Finals.\".format(w_pg, w_mg, w_fg))"
      ],
      "metadata": {
        "colab": {
          "base_uri": "https://localhost:8080/"
        },
        "id": "hCuC_-eleLYb",
        "outputId": "7dee28b5-cd09-4bf2-b36b-aaaae8eda79c"
      },
      "execution_count": 23,
      "outputs": [
        {
          "output_type": "stream",
          "name": "stdout",
          "text": [
            "The weights of your semestral grades are:\n",
            "\t30.00% for Prelims\n",
            "\t30.00% for Midterms, and\n",
            "\t40.00% for Finals.\n"
          ]
        }
      ]
    },
    {
      "cell_type": "code",
      "source": [
        "x = input(\"enter a number: \")\n",
        "x"
      ],
      "metadata": {
        "colab": {
          "base_uri": "https://localhost:8080/",
          "height": 53
        },
        "id": "KNYAP89uejcR",
        "outputId": "fb23b0c3-9538-4385-c859-9f83ea8328eb"
      },
      "execution_count": 24,
      "outputs": [
        {
          "name": "stdout",
          "output_type": "stream",
          "text": [
            "enter a number: 90\n"
          ]
        },
        {
          "output_type": "execute_result",
          "data": {
            "text/plain": [
              "'90'"
            ],
            "application/vnd.google.colaboratory.intrinsic+json": {
              "type": "string"
            }
          },
          "metadata": {},
          "execution_count": 24
        }
      ]
    },
    {
      "cell_type": "code",
      "source": [
        "name = input(\"Kimi no nawa: \")\n",
        "pg = float(input(\"Enter prelim grade: \"))\n",
        "mg = float(input(\"Enter midterm grade: \"))\n",
        "fg = float(input(\"Enter finals grade: \"))\n",
        "sem_grade = (pg*0.3)+(mg*0.3)+(fg*0.4)\n",
        "print(\"Hello {}, your semestral grade is: {}\".format(name, sem_grade))"
      ],
      "metadata": {
        "colab": {
          "base_uri": "https://localhost:8080/"
        },
        "id": "Ei6RNBqzej5u",
        "outputId": "596d9f05-b090-4c10-d946-8adef3a3ba52"
      },
      "execution_count": 35,
      "outputs": [
        {
          "output_type": "stream",
          "name": "stdout",
          "text": [
            "Kimi no nawa: kit\n",
            "Enter prelim grade: 78\n",
            "Enter midterm grade: 90\n",
            "Enter finals grade: 89\n",
            "Hello kit, your semestral grade is: 86.0\n"
          ]
        }
      ]
    },
    {
      "cell_type": "markdown",
      "source": [
        "***Looping Statements***"
      ],
      "metadata": {
        "id": "txz1zdCwhsPR"
      }
    },
    {
      "cell_type": "code",
      "source": [
        "## while loops\n",
        "i, j = 0, 10\n",
        "while(i<=j):\n",
        "  print(f\"{i}\\t|\\t{j}\")\n",
        "  i+=1"
      ],
      "metadata": {
        "colab": {
          "base_uri": "https://localhost:8080/"
        },
        "id": "qFvkIg8giHaV",
        "outputId": "0eae0832-4b78-4950-fa1e-47d467f794a9"
      },
      "execution_count": 36,
      "outputs": [
        {
          "output_type": "stream",
          "name": "stdout",
          "text": [
            "0\t|\t10\n",
            "1\t|\t10\n",
            "2\t|\t10\n",
            "3\t|\t10\n",
            "4\t|\t10\n",
            "5\t|\t10\n",
            "6\t|\t10\n",
            "7\t|\t10\n",
            "8\t|\t10\n",
            "9\t|\t10\n",
            "10\t|\t10\n"
          ]
        }
      ]
    },
    {
      "cell_type": "code",
      "source": [
        "#for(int i=0; i<10; i++){\n",
        "    # printf(i)\n",
        "    # }\n",
        "i = 0\n",
        "for i in range(10):\n",
        "    print(i)"
      ],
      "metadata": {
        "colab": {
          "base_uri": "https://localhost:8080/"
        },
        "id": "z06XGse1iM_M",
        "outputId": "56a7664e-59e8-402c-f128-9418146633aa"
      },
      "execution_count": 51,
      "outputs": [
        {
          "output_type": "stream",
          "name": "stdout",
          "text": [
            "0\n",
            "1\n",
            "2\n",
            "3\n",
            "4\n",
            "5\n",
            "6\n",
            "7\n",
            "8\n",
            "9\n"
          ]
        }
      ]
    },
    {
      "cell_type": "markdown",
      "source": [
        "***Flow Control***"
      ],
      "metadata": {
        "id": "dqrWwjqYiuWx"
      }
    },
    {
      "cell_type": "code",
      "source": [
        "###Condition Statements\n",
        "numeral1, numeral2 = 12, 12\n",
        "if(numeral1 == numeral2):\n",
        "  print(\"Yey\")\n",
        "elif(numeral1>numeral2):\n",
        "  print(\"Hoho\")\n",
        "else:\n",
        "  print(\"Aww\")\n",
        "print(\"Hip hip\")"
      ],
      "metadata": {
        "colab": {
          "base_uri": "https://localhost:8080/"
        },
        "id": "oCBnj-Aliv0B",
        "outputId": "5b54d8a0-bc23-4ef6-9e0b-6320e257100b"
      },
      "execution_count": 52,
      "outputs": [
        {
          "output_type": "stream",
          "name": "stdout",
          "text": [
            "Yey\n",
            "Hip hip\n"
          ]
        }
      ]
    },
    {
      "cell_type": "markdown",
      "source": [
        "***Functions***"
      ],
      "metadata": {
        "id": "cwo3zhSbi8hD"
      }
    },
    {
      "cell_type": "code",
      "source": [
        "# void DeleteUser(int userid){\n",
        "    # delete(userid);\n",
        "    # }\n",
        "def delete_user (userid):\n",
        "  print(\"Successfully deleted user: {}\".format(userid))\n",
        "def delete_all_users ():\n",
        "  print(\"Successfully deleted all users\")"
      ],
      "metadata": {
        "id": "prcZvSjti-CH"
      },
      "execution_count": 56,
      "outputs": []
    }
  ]
}