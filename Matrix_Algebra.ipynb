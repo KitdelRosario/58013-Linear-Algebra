{
  "nbformat": 4,
  "nbformat_minor": 0,
  "metadata": {
    "colab": {
      "provenance": [],
      "authorship_tag": "ABX9TyMSEa03ptm9FlcXJOYM2eKE",
      "include_colab_link": true
    },
    "kernelspec": {
      "name": "python3",
      "display_name": "Python 3"
    },
    "language_info": {
      "name": "python"
    }
  },
  "cells": [
    {
      "cell_type": "markdown",
      "metadata": {
        "id": "view-in-github",
        "colab_type": "text"
      },
      "source": [
        "<a href=\"https://colab.research.google.com/github/KitdelRosario/58013-Linear-Algebra/blob/main/Matrix_Algebra.ipynb\" target=\"_parent\"><img src=\"https://colab.research.google.com/assets/colab-badge.svg\" alt=\"Open In Colab\"/></a>"
      ]
    },
    {
      "cell_type": "markdown",
      "source": [
        "***Associative Property***"
      ],
      "metadata": {
        "id": "zoByWXdWBnVY"
      }
    },
    {
      "cell_type": "code",
      "execution_count": 11,
      "metadata": {
        "colab": {
          "base_uri": "https://localhost:8080/"
        },
        "id": "s9B1Z0Jd2eYy",
        "outputId": "aa671d22-bf75-43ce-a1cd-05af98412c4d"
      },
      "outputs": [
        {
          "output_type": "stream",
          "name": "stdout",
          "text": [
            "Matrix (AB)C:\n",
            "[[942 624 726]\n",
            " [919 597 695]\n",
            " [673 442 519]]\n",
            "\n",
            "Matrix A(BC):\n",
            "[[942 624 726]\n",
            " [919 597 695]\n",
            " [673 442 519]]\n"
          ]
        }
      ],
      "source": [
        "import numpy as np\n",
        "\n",
        "A = np.array([[6, 6, 6],\n",
        "                     [3, 7, 6],\n",
        "                     [5, 7, 3]])\n",
        "\n",
        "B = np.array([[1, 1, 2],\n",
        "                     [3, 4, 1],\n",
        "                     [6, 1, 8]])\n",
        "\n",
        "C = np.array([[9, 2, 2],\n",
        "                     [2, 3, 4],\n",
        "                     [5, 6, 7]])\n",
        "\n",
        "result1 = np.dot(np.dot(A, B), C)\n",
        "\n",
        "result2 = np.dot(A, np.dot(B,C))\n",
        "\n",
        "print(\"Matrix (AB)C:\")\n",
        "print(result1)\n",
        "\n",
        "print(\"\\nMatrix A(BC):\")\n",
        "print(result2)"
      ]
    },
    {
      "cell_type": "markdown",
      "source": [
        "***Distributive property***"
      ],
      "metadata": {
        "id": "cZ1hET-6BkQQ"
      }
    },
    {
      "cell_type": "code",
      "source": [
        "import numpy as np\n",
        "\n",
        "A = np.array([[6, 6, 6],\n",
        "                     [3, 7, 6],\n",
        "                     [5, 7, 3]])\n",
        "\n",
        "B = np.array([[1, 1, 2],\n",
        "                     [3, 4, 1],\n",
        "                     [6, 1, 8]])\n",
        "\n",
        "C = np.array([[9, 2, 2],\n",
        "                     [2, 3, 4],\n",
        "                     [5, 6, 7]])\n",
        "\n",
        "result1 = np.add(np.dot(A,B),np.dot(A,C))\n",
        "\n",
        "result2 = np.dot(A, np.add(B,C))\n",
        "\n",
        "print(\"Matrix (AB)C:\")\n",
        "print(result1)\n",
        "\n",
        "print(\"\\nMatrix A(BC):\")\n",
        "print(result2)"
      ],
      "metadata": {
        "colab": {
          "base_uri": "https://localhost:8080/"
        },
        "id": "3mlKmd3fA__E",
        "outputId": "c459c055-4645-4b27-df74-9141a74b7b46"
      },
      "execution_count": 12,
      "outputs": [
        {
          "output_type": "stream",
          "name": "stdout",
          "text": [
            "Matrix (AB)C:\n",
            "[[156 102 144]\n",
            " [131 100 137]\n",
            " [118  85 100]]\n",
            "\n",
            "Matrix A(BC):\n",
            "[[156 102 144]\n",
            " [131 100 137]\n",
            " [118  85 100]]\n"
          ]
        }
      ]
    }
  ]
}