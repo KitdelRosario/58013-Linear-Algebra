{
  "nbformat": 4,
  "nbformat_minor": 0,
  "metadata": {
    "colab": {
      "provenance": [],
      "authorship_tag": "ABX9TyOxsWaIW+MJW0f1iiLYefO9",
      "include_colab_link": true
    },
    "kernelspec": {
      "name": "python3",
      "display_name": "Python 3"
    },
    "language_info": {
      "name": "python"
    }
  },
  "cells": [
    {
      "cell_type": "markdown",
      "metadata": {
        "id": "view-in-github",
        "colab_type": "text"
      },
      "source": [
        "<a href=\"https://colab.research.google.com/github/KitdelRosario/58013-Linear-Algebra/blob/main/Prelim_Exam.ipynb\" target=\"_parent\"><img src=\"https://colab.research.google.com/assets/colab-badge.svg\" alt=\"Open In Colab\"/></a>"
      ]
    },
    {
      "cell_type": "code",
      "execution_count": 3,
      "metadata": {
        "colab": {
          "base_uri": "https://localhost:8080/"
        },
        "id": "HiVtQauD0slU",
        "outputId": "11c0cc84-2cc5-4402-e4d0-f5b19b3782f1"
      },
      "outputs": [
        {
          "output_type": "stream",
          "name": "stdout",
          "text": [
            "[[  1   2   3   4   5   6   7   8   9  10]\n",
            " [  2   4   6   8  10  12  14  16  18  20]\n",
            " [  3   6   9  12  15  18  21  24  27  30]\n",
            " [  4   8  12  16  20  24  28  32  36  40]\n",
            " [  5  10  15  20  25  30  35  40  45  50]\n",
            " [  6  12  18  24  30  36  42  48  54  60]\n",
            " [  7  14  21  28  35  42  49  56  63  70]\n",
            " [  8  16  24  32  40  48  56  64  72  80]\n",
            " [  9  18  27  36  45  54  63  72  81  90]\n",
            " [ 10  20  30  40  50  60  70  80  90 100]]\n"
          ]
        }
      ],
      "source": [
        "##Question 1\n",
        "import numpy as np\n",
        "table = np.array([[1,2,3,4,5,6,7,8,9,10],[2,4,6,8,10,12,14,16,18,20],[3,6,9,12,15,18,21,24,27,30],[4,8,12,16,20,24,28,32,36,40],[5,10,15,20,25,30,35,40,45,50],[6,12,18,24,30,36,42,48,54,60],[7,14,21,28,35,42,49,56,63,70],[8,16,24,32,40,48,56,64,72,80],[9,18,27,36,45,54,63,72,81,90],[10,20,30,40,50,60,70,80,90,100]])\n",
        "print(table)"
      ]
    },
    {
      "cell_type": "code",
      "source": [
        "##Question 2\n",
        "product = np.multiply(2,table)\n",
        "print(product)"
      ],
      "metadata": {
        "id": "Jcn80wrK2iN6",
        "outputId": "63075f3c-e7e7-4751-dcec-102d1378b59b",
        "colab": {
          "base_uri": "https://localhost:8080/"
        }
      },
      "execution_count": 4,
      "outputs": [
        {
          "output_type": "stream",
          "name": "stdout",
          "text": [
            "[[  2   4   6   8  10  12  14  16  18  20]\n",
            " [  4   8  12  16  20  24  28  32  36  40]\n",
            " [  6  12  18  24  30  36  42  48  54  60]\n",
            " [  8  16  24  32  40  48  56  64  72  80]\n",
            " [ 10  20  30  40  50  60  70  80  90 100]\n",
            " [ 12  24  36  48  60  72  84  96 108 120]\n",
            " [ 14  28  42  56  70  84  98 112 126 140]\n",
            " [ 16  32  48  64  80  96 112 128 144 160]\n",
            " [ 18  36  54  72  90 108 126 144 162 180]\n",
            " [ 20  40  60  80 100 120 140 160 180 200]]\n"
          ]
        }
      ]
    },
    {
      "cell_type": "code",
      "source": [
        "##Question 3\n",
        "\n",
        "square = np.array([[1, 0, 0, 0],\n",
        "                   [0, 1, 0, 0],\n",
        "                   [0, 0, 1, 0],\n",
        "                   [0, 0, 0, 1]])\n",
        "print(square)"
      ],
      "metadata": {
        "id": "mlCPmBi53mvo",
        "outputId": "858d8f09-2d9e-4708-a4d7-e29bbd734bf6",
        "colab": {
          "base_uri": "https://localhost:8080/"
        }
      },
      "execution_count": 7,
      "outputs": [
        {
          "output_type": "stream",
          "name": "stdout",
          "text": [
            "[[1 0 0 0]\n",
            " [0 1 0 0]\n",
            " [0 0 1 0]\n",
            " [0 0 0 1]]\n"
          ]
        }
      ]
    },
    {
      "cell_type": "code",
      "source": [
        "##Question 4\n",
        "import numpy as np\n",
        "matrix = np.array([[1, 2, 3, 4],\n",
        "                   [5, 6, 7, 8],\n",
        "                   [9, 10, 11, 12]])\n",
        "print(\"Size: \",matrix.size)\n",
        "print(\"Shape: \",matrix.shape)\n",
        "print(\"Dimension: \",matrix.ndim)\n",
        "\n"
      ],
      "metadata": {
        "id": "RnYqqY5q2wDz",
        "outputId": "71316871-c061-4dc8-8c35-f180cbc2458e",
        "colab": {
          "base_uri": "https://localhost:8080/"
        }
      },
      "execution_count": 6,
      "outputs": [
        {
          "output_type": "stream",
          "name": "stdout",
          "text": [
            "Size:  12\n",
            "Shape:  (3, 4)\n",
            "Dimension:  2\n"
          ]
        }
      ]
    },
    {
      "cell_type": "code",
      "source": [
        "##Question 5\n",
        "import numpy as np\n",
        "arrayOne = np.array([[5,6,9],[21,18,27]])\n",
        "arrayTwo = np.array([[15,33,34],[4,7,1]])\n",
        "\n",
        "sum = np.add(arrayOne,arrayTwo)\n",
        "print(\"Sum: \")\n",
        "print(sum)\n",
        "\n",
        "square = np.square(sum)\n",
        "print(\"Square: \")\n",
        "print(square)"
      ],
      "metadata": {
        "id": "adDEGBo44gV4",
        "outputId": "cd0ef6f1-bcac-4411-d900-979f1fe4e331",
        "colab": {
          "base_uri": "https://localhost:8080/"
        }
      },
      "execution_count": 5,
      "outputs": [
        {
          "output_type": "stream",
          "name": "stdout",
          "text": [
            "Sum: \n",
            "[[20 39 43]\n",
            " [25 25 28]]\n",
            "Square: \n",
            "[[ 400 1521 1849]\n",
            " [ 625  625  784]]\n"
          ]
        }
      ]
    }
  ]
}