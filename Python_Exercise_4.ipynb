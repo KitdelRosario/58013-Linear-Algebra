{
  "nbformat": 4,
  "nbformat_minor": 0,
  "metadata": {
    "colab": {
      "provenance": [],
      "authorship_tag": "ABX9TyO8TuAKq4SomXDYCpYh35uh",
      "include_colab_link": true
    },
    "kernelspec": {
      "name": "python3",
      "display_name": "Python 3"
    },
    "language_info": {
      "name": "python"
    }
  },
  "cells": [
    {
      "cell_type": "markdown",
      "metadata": {
        "id": "view-in-github",
        "colab_type": "text"
      },
      "source": [
        "<a href=\"https://colab.research.google.com/github/KitdelRosario/58013-Linear-Algebra/blob/main/Python_Exercise_4.ipynb\" target=\"_parent\"><img src=\"https://colab.research.google.com/assets/colab-badge.svg\" alt=\"Open In Colab\"/></a>"
      ]
    },
    {
      "cell_type": "code",
      "execution_count": 1,
      "metadata": {
        "colab": {
          "base_uri": "https://localhost:8080/"
        },
        "id": "OpbbVUEXmjCp",
        "outputId": "b34bc5c1-29c9-4bfe-a9c6-fdb309cd8581"
      },
      "outputs": [
        {
          "output_type": "stream",
          "name": "stdout",
          "text": [
            "Addition Vector:  [-0.8  6.6 -1.1]\n",
            "Dot Product Vector:  0.33999999999999997\n",
            "Cross Product Vector:  [-2.4  -0.5  -0.38]\n"
          ]
        }
      ],
      "source": [
        "import numpy as np\n",
        "A = np.array([-0.4,4.3,-0.6])\n",
        "B = np.array([-0.2,0.2,1])\n",
        "C = np.array([-0.2,2.1,-1.5])\n",
        "\n",
        "Add = A + B + C\n",
        "Dot = np.dot(A,B)\n",
        "Cross = np.cross(B,C)\n",
        "\n",
        "print(\"Addition Vector: \",Add)\n",
        "print(\"Dot Product Vector: \",Dot)\n",
        "print(\"Cross Product Vector: \",Cross)"
      ]
    }
  ]
}