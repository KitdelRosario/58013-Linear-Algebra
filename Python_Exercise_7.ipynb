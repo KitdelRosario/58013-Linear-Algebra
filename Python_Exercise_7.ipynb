{
  "nbformat": 4,
  "nbformat_minor": 0,
  "metadata": {
    "colab": {
      "provenance": [],
      "authorship_tag": "ABX9TyNwAvZrojj8ojEOP6YzTTxy",
      "include_colab_link": true
    },
    "kernelspec": {
      "name": "python3",
      "display_name": "Python 3"
    },
    "language_info": {
      "name": "python"
    }
  },
  "cells": [
    {
      "cell_type": "markdown",
      "metadata": {
        "id": "view-in-github",
        "colab_type": "text"
      },
      "source": [
        "<a href=\"https://colab.research.google.com/github/KitdelRosario/58013-Linear-Algebra/blob/main/Python_Exercise_7.ipynb\" target=\"_parent\"><img src=\"https://colab.research.google.com/assets/colab-badge.svg\" alt=\"Open In Colab\"/></a>"
      ]
    },
    {
      "cell_type": "code",
      "execution_count": 12,
      "metadata": {
        "colab": {
          "base_uri": "https://localhost:8080/"
        },
        "id": "zD3LQ_TIwmNg",
        "outputId": "caca9c51-13b0-4d29-980e-047be0c864c3"
      },
      "outputs": [
        {
          "output_type": "stream",
          "name": "stdout",
          "text": [
            "Matrix:\n",
            "[[1 2]\n",
            " [3 1]]\n",
            "\n",
            "Shape:\t(2, 2)\n",
            "Rank:\t2\n",
            "\n",
            "Matrix:\n",
            "[[1 1]\n",
            " [2 2]]\n",
            "\n",
            "Shape:\t(2, 2)\n",
            "Rank:\t2\n",
            "\n",
            "Matrix:\n",
            "[[8 2]\n",
            " [5 4]\n",
            " [1 1]]\n",
            "\n",
            "Shape:\t(3, 2)\n",
            "Rank:\t2\n",
            "\n",
            "Matrix:\n",
            "[1 2 3 4 5]\n",
            "\n",
            "Shape:\t(5,)\n",
            "Rank:\t1\n",
            "\n"
          ]
        }
      ],
      "source": [
        "  ## Since we'll keep on describing matrices. Let's make a function.\n",
        "import numpy as np\n",
        "def describe_mat(matrix):\n",
        "   print(f'Matrix:\\n{matrix}\\n\\nShape:\\t{matrix.shape}\\nRank:\\t{matrix.ndim}\\n')\n",
        "\n",
        "  ## Declaring a 2 x 2 matrix\n",
        "A = np.array([\n",
        "      [1, 2],\n",
        "       [3, 1]])\n",
        "describe_mat(A)\n",
        "G = np.array([[1,1],\n",
        "              [2,2]])\n",
        "describe_mat(G)\n",
        "\n",
        "  ## Declaring a 3 x 2 matrix\n",
        "B = np.array([[8, 2],\n",
        "                [5, 4],\n",
        "               [1, 1]])\n",
        "describe_mat(B)\n",
        "\n",
        "H = np.array([1,2,3,4,5])\n",
        "describe_mat(H)\n",
        "\n",
        "\n",
        "\n"
      ]
    }
  ]
}