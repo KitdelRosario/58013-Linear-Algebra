{
  "nbformat": 4,
  "nbformat_minor": 0,
  "metadata": {
    "colab": {
      "provenance": [],
      "authorship_tag": "ABX9TyPpkg3Ai7qDrAwStbWXaGTC",
      "include_colab_link": true
    },
    "kernelspec": {
      "name": "python3",
      "display_name": "Python 3"
    },
    "language_info": {
      "name": "python"
    }
  },
  "cells": [
    {
      "cell_type": "markdown",
      "metadata": {
        "id": "view-in-github",
        "colab_type": "text"
      },
      "source": [
        "<a href=\"https://colab.research.google.com/github/KitdelRosario/58013-Linear-Algebra/blob/main/Python_Exercise_9.ipynb\" target=\"_parent\"><img src=\"https://colab.research.google.com/assets/colab-badge.svg\" alt=\"Open In Colab\"/></a>"
      ]
    },
    {
      "cell_type": "markdown",
      "source": [
        "***Associative Property***"
      ],
      "metadata": {
        "id": "zoByWXdWBnVY"
      }
    },
    {
      "cell_type": "code",
      "execution_count": 10,
      "metadata": {
        "colab": {
          "base_uri": "https://localhost:8080/"
        },
        "id": "s9B1Z0Jd2eYy",
        "outputId": "7689024b-0dde-4914-fed8-726b2bc1ea09"
      },
      "outputs": [
        {
          "output_type": "stream",
          "name": "stdout",
          "text": [
            "Matrix (AB)C:\n",
            "[[942 624 726]\n",
            " [919 597 695]\n",
            " [673 442 519]]\n",
            "\n",
            "Matrix A(BC):\n",
            "[[942 624 726]\n",
            " [919 597 695]\n",
            " [673 442 519]]\n"
          ]
        }
      ],
      "source": [
        "import numpy as np\n",
        "\n",
        "A = np.array([[6, 6, 6],\n",
        "                     [3, 7, 6],\n",
        "                     [5, 7, 3]])\n",
        "\n",
        "B = np.array([[1, 1, 2],\n",
        "                     [3, 4, 1],\n",
        "                     [6, 1, 8]])\n",
        "\n",
        "C = np.array([[9, 2, 2],\n",
        "                     [2, 3, 4],\n",
        "                     [5, 6, 7]])\n",
        "\n",
        "result1 = np.dot(np.dot(A, B), C)\n",
        "\n",
        "result2 = np.dot(A, np.dot(B,C))\n",
        "\n",
        "print(\"Matrix (AB)C:\")\n",
        "print(result1)\n",
        "\n",
        "print(\"\\nMatrix A(BC):\")\n",
        "print(result2)"
      ]
    },
    {
      "cell_type": "markdown",
      "source": [
        "***Distributive property***"
      ],
      "metadata": {
        "id": "cZ1hET-6BkQQ"
      }
    },
    {
      "cell_type": "code",
      "source": [
        "import numpy as np\n",
        "\n",
        "A = np.array([[6, 6, 6],\n",
        "                     [3, 7, 6],\n",
        "                     [5, 7, 3]])\n",
        "\n",
        "B = np.array([[1, 1, 2],\n",
        "                     [3, 4, 1],\n",
        "                     [6, 1, 8]])\n",
        "\n",
        "C = np.array([[9, 2, 2],\n",
        "                     [2, 3, 4],\n",
        "                     [5, 6, 7]])\n",
        "\n",
        "result1 = np.add(np.dot(A ,B),np.dot(A,C))\n",
        "\n",
        "result2 = np.dot(A, np.add(B,C))\n",
        "\n",
        "print(\"Matrix (AB) + (AC):\")\n",
        "print(result1)\n",
        "\n",
        "print(\"\\nMatrix A + (BC):\")\n",
        "print(result2)"
      ],
      "metadata": {
        "colab": {
          "base_uri": "https://localhost:8080/"
        },
        "id": "3mlKmd3fA__E",
        "outputId": "3ca1fc95-25e8-4f8c-8178-cf2228397fdb"
      },
      "execution_count": 8,
      "outputs": [
        {
          "output_type": "stream",
          "name": "stdout",
          "text": [
            "Matrix (AB) + (AC):\n",
            "[[156 102 144]\n",
            " [131 100 137]\n",
            " [118  85 100]]\n",
            "\n",
            "Matrix A + (BC):\n",
            "[[156 102 144]\n",
            " [131 100 137]\n",
            " [118  85 100]]\n"
          ]
        }
      ]
    },
    {
      "cell_type": "markdown",
      "source": [
        "***Closure Property***"
      ],
      "metadata": {
        "id": "dKqLJ9dEWB6Z"
      }
    },
    {
      "cell_type": "code",
      "source": [
        "import numpy as np\n",
        "\n",
        "A = np.array([[1, 2, 3],\n",
        "                     [4, 5, 6],\n",
        "                     [7, 8, 9]])\n",
        "\n",
        "B = np.array([[9, 8, 7],\n",
        "                     [6, 5, 4],\n",
        "                     [3, 2, 1]])\n",
        "\n",
        "C = np.array([[11, 12, 13],\n",
        "                     [14, 15, 16],\n",
        "                     [17, 18, 19]])\n",
        "\n",
        "AB = np.dot(A, B)\n",
        "BC = np.dot(B, C)\n",
        "\n",
        "print(\"Matrix A * Matrix B:\")\n",
        "print(AB)\n",
        "\n",
        "print(\"\\nMatrix B * Matrix C:\")\n",
        "print(BC)"
      ],
      "metadata": {
        "colab": {
          "base_uri": "https://localhost:8080/"
        },
        "id": "faFIa-5GbLTJ",
        "outputId": "458a4e97-8f4b-416d-8568-f1788dd799a3"
      },
      "execution_count": 2,
      "outputs": [
        {
          "output_type": "stream",
          "name": "stdout",
          "text": [
            "Matrix A * Matrix B:\n",
            "[[ 30  24  18]\n",
            " [ 84  69  54]\n",
            " [138 114  90]]\n",
            "\n",
            "Matrix B * Matrix C:\n",
            "[[330 354 378]\n",
            " [204 219 234]\n",
            " [ 78  84  90]]\n"
          ]
        }
      ]
    },
    {
      "cell_type": "markdown",
      "source": [
        "***Identity Property***"
      ],
      "metadata": {
        "id": "3mnWS9qZdxpS"
      }
    },
    {
      "cell_type": "code",
      "source": [
        "import numpy as np\n",
        "\n",
        "\n",
        "A = np.array([[6, 5, 3],\n",
        "                     [3, 2, 1],\n",
        "                     [9, 6, 9]])\n",
        "\n",
        "\n",
        "identity = np.array([[1, 0, 0],\n",
        "                            [0, 1, 0],\n",
        "                            [0, 0, 1]])\n",
        "\n",
        "result = np.dot(A, identity)\n",
        "\n",
        "print(\"Matrix A:\")\n",
        "print(A)\n",
        "\n",
        "print(\"\\nIdentity Matrix:\")\n",
        "print(identity)\n",
        "\n",
        "print(\"\\nMatrix A * Identity Matrix:\")\n",
        "print(result)"
      ],
      "metadata": {
        "colab": {
          "base_uri": "https://localhost:8080/"
        },
        "id": "hDauonBTeMF3",
        "outputId": "a54f00ac-8020-4744-fa0e-1ed7dcaf1647"
      },
      "execution_count": 5,
      "outputs": [
        {
          "output_type": "stream",
          "name": "stdout",
          "text": [
            "Matrix A:\n",
            "[[6 5 3]\n",
            " [3 2 1]\n",
            " [9 6 9]]\n",
            "\n",
            "Identity Matrix:\n",
            "[[1 0 0]\n",
            " [0 1 0]\n",
            " [0 0 1]]\n",
            "\n",
            "Matrix A * Identity Matrix:\n",
            "[[6 5 3]\n",
            " [3 2 1]\n",
            " [9 6 9]]\n"
          ]
        }
      ]
    },
    {
      "cell_type": "markdown",
      "source": [
        "***Zero Property***"
      ],
      "metadata": {
        "id": "-AsTo3WxevBY"
      }
    },
    {
      "cell_type": "code",
      "source": [
        "import numpy as np\n",
        "\n",
        "\n",
        "A = np.array([[1, 2, 3],\n",
        "                     [4, 5, 6],\n",
        "                     [7, 8, 9]])\n",
        "\n",
        "\n",
        "zero = np.zeros((3, 3))\n",
        "\n",
        "result = np.dot(A, zero)\n",
        "\n",
        "print(\"Matrix A:\")\n",
        "print(A)\n",
        "\n",
        "print(\"\\nZero Matrix:\")\n",
        "print(zero)\n",
        "\n",
        "print(\"\\nMatrix A * Zero Matrix:\")\n",
        "print(result)"
      ],
      "metadata": {
        "colab": {
          "base_uri": "https://localhost:8080/"
        },
        "id": "NYrlITWXewsL",
        "outputId": "d46931c6-5a4c-4135-f076-fe16e674701e"
      },
      "execution_count": 7,
      "outputs": [
        {
          "output_type": "stream",
          "name": "stdout",
          "text": [
            "Matrix A:\n",
            "[[1 2 3]\n",
            " [4 5 6]\n",
            " [7 8 9]]\n",
            "\n",
            "Zero Matrix:\n",
            "[[0. 0. 0.]\n",
            " [0. 0. 0.]\n",
            " [0. 0. 0.]]\n",
            "\n",
            "Matrix A * Zero Matrix:\n",
            "[[0. 0. 0.]\n",
            " [0. 0. 0.]\n",
            " [0. 0. 0.]]\n"
          ]
        }
      ]
    },
    {
      "cell_type": "markdown",
      "source": [
        "***Scalar Property***"
      ],
      "metadata": {
        "id": "xefE1HtOfOLI"
      }
    },
    {
      "cell_type": "code",
      "source": [
        "import numpy as np\n",
        "\n",
        "\n",
        "matrix_A = np.array([[1, 2, 3],\n",
        "                     [4, 5, 6],\n",
        "                     [7, 8, 9]])\n",
        "\n",
        "\n",
        "scalar = 2\n",
        "\n",
        "result = scalar * matrix_A\n",
        "\n",
        "print(\"Matrix A:\")\n",
        "print(matrix_A)\n",
        "\n",
        "print(\"\\nScalar (Multiplier):\", scalar)\n",
        "\n",
        "print(\"\\nScalar Multiplication of Matrix A:\")\n",
        "print(result)"
      ],
      "metadata": {
        "colab": {
          "base_uri": "https://localhost:8080/"
        },
        "id": "jKvZkZ2NfrdP",
        "outputId": "7d7cde9b-b256-44ef-e3b3-ab2013f4c132"
      },
      "execution_count": 9,
      "outputs": [
        {
          "output_type": "stream",
          "name": "stdout",
          "text": [
            "Matrix A:\n",
            "[[1 2 3]\n",
            " [4 5 6]\n",
            " [7 8 9]]\n",
            "\n",
            "Scalar (Multiplier): 2\n",
            "\n",
            "Scalar Multiplication of Matrix A:\n",
            "[[ 2  4  6]\n",
            " [ 8 10 12]\n",
            " [14 16 18]]\n"
          ]
        }
      ]
    }
  ]
}