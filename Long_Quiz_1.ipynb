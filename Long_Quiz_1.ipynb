{
  "nbformat": 4,
  "nbformat_minor": 0,
  "metadata": {
    "colab": {
      "provenance": [],
      "authorship_tag": "ABX9TyMzCXI6vh3pm/Rmvs2iqUx9",
      "include_colab_link": true
    },
    "kernelspec": {
      "name": "python3",
      "display_name": "Python 3"
    },
    "language_info": {
      "name": "python"
    }
  },
  "cells": [
    {
      "cell_type": "markdown",
      "metadata": {
        "id": "view-in-github",
        "colab_type": "text"
      },
      "source": [
        "<a href=\"https://colab.research.google.com/github/KitdelRosario/58013-Linear-Algebra/blob/main/Long_Quiz_1.ipynb\" target=\"_parent\"><img src=\"https://colab.research.google.com/assets/colab-badge.svg\" alt=\"Open In Colab\"/></a>"
      ]
    },
    {
      "cell_type": "markdown",
      "source": [
        "***Problem 1***"
      ],
      "metadata": {
        "id": "pOGcGZJdgwZ4"
      }
    },
    {
      "cell_type": "code",
      "execution_count": 43,
      "metadata": {
        "colab": {
          "base_uri": "https://localhost:8080/"
        },
        "id": "A9xWd1dxgjCu",
        "outputId": "5d275bd3-9c1d-45f1-c36a-947bf330d5b0"
      },
      "outputs": [
        {
          "output_type": "stream",
          "name": "stdout",
          "text": [
            "AB:\n",
            "[[22 28]\n",
            " [49 64]]\n",
            "D + D:\n",
            "[[2 4]\n",
            " [6 8]]\n",
            "2C:\n",
            "[[ 2  4  6]\n",
            " [ 8 10 12]\n",
            " [14 16 18]]\n"
          ]
        }
      ],
      "source": [
        "import numpy as np\n",
        "\n",
        "A = np.array([[1,2,3],[4,5,6]])\n",
        "B = np.array([[1,2],[3,4],[5,6]])\n",
        "C = np.array([[1,2,3],[4,5,6],[7,8,9]])\n",
        "D = np.array([[1,2],[3,4]])\n",
        "\n",
        "#A.)\n",
        "DO = np.dot(A,B)\n",
        "print(\"AB:\")\n",
        "print(DO)\n",
        "\n",
        "#B.)\n",
        "A = np.add(D,D)\n",
        "print(\"D + D:\")\n",
        "print(A)\n",
        "\n",
        "#C.)\n",
        "M = np.multiply(2,C)\n",
        "print(\"2C:\")\n",
        "print(M)"
      ]
    },
    {
      "cell_type": "markdown",
      "source": [
        "***Problem 2***"
      ],
      "metadata": {
        "id": "73qDwZDmgwsF"
      }
    },
    {
      "cell_type": "code",
      "source": [
        "import numpy as np\n",
        "\n",
        "A = np.array([2,7,4])\n",
        "B = np.array([3,9,8])\n",
        "\n",
        "CP = [(A[1]*B[2]) - (A[2]*B[1]), (A[2]*B[0]) - (A[0]*B[2]), (A[0]*B[1]) - (A[1]*B[0])]\n",
        "\n",
        "print(CP)"
      ],
      "metadata": {
        "colab": {
          "base_uri": "https://localhost:8080/"
        },
        "id": "6zPIKA92k7sB",
        "outputId": "d6dec0ca-1a31-4b6c-ea93-ba3f867af4ac"
      },
      "execution_count": 29,
      "outputs": [
        {
          "output_type": "stream",
          "name": "stdout",
          "text": [
            "[20, -4, -3]\n"
          ]
        }
      ]
    }
  ]
}