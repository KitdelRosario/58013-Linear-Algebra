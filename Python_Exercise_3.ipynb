{
  "nbformat": 4,
  "nbformat_minor": 0,
  "metadata": {
    "colab": {
      "provenance": [],
      "authorship_tag": "ABX9TyPJoRAeGpg4qOh32DzBALiS",
      "include_colab_link": true
    },
    "kernelspec": {
      "name": "python3",
      "display_name": "Python 3"
    },
    "language_info": {
      "name": "python"
    }
  },
  "cells": [
    {
      "cell_type": "markdown",
      "metadata": {
        "id": "view-in-github",
        "colab_type": "text"
      },
      "source": [
        "<a href=\"https://colab.research.google.com/github/KitdelRosario/58013-Linear-Algebra/blob/main/Python_Exercise_3.ipynb\" target=\"_parent\"><img src=\"https://colab.research.google.com/assets/colab-badge.svg\" alt=\"Open In Colab\"/></a>"
      ]
    },
    {
      "cell_type": "markdown",
      "source": [
        "***Vector Addition***"
      ],
      "metadata": {
        "id": "C-r__xuDox3_"
      }
    },
    {
      "cell_type": "code",
      "execution_count": 6,
      "metadata": {
        "colab": {
          "base_uri": "https://localhost:8080/"
        },
        "id": "vwqItZClotBH",
        "outputId": "376fe6e8-8338-473a-d9f8-884e508b6515"
      },
      "outputs": [
        {
          "output_type": "execute_result",
          "data": {
            "text/plain": [
              "2"
            ]
          },
          "metadata": {},
          "execution_count": 6
        }
      ],
      "source": [
        "import numpy as np\n",
        "\n",
        "A = np.array([1,2,0])\n",
        "B = np.array([3,1,-2])\n",
        "C = np.array([0,0,1])\n",
        "\n",
        "A+B+C\n",
        "np.add(A,np.add(B,C))\n",
        "\n",
        "np.sum(B)"
      ]
    },
    {
      "cell_type": "markdown",
      "source": [
        "***Vector Subtraction***"
      ],
      "metadata": {
        "id": "5AbQW_HopG7w"
      }
    },
    {
      "cell_type": "code",
      "source": [
        "np.subtract(A,B)\n",
        "A-B"
      ],
      "metadata": {
        "colab": {
          "base_uri": "https://localhost:8080/"
        },
        "id": "g28sdNuapIv5",
        "outputId": "035d5d0b-09b7-4044-fdfc-b2744ff1aec9"
      },
      "execution_count": 3,
      "outputs": [
        {
          "output_type": "execute_result",
          "data": {
            "text/plain": [
              "array([-2,  1,  2])"
            ]
          },
          "metadata": {},
          "execution_count": 3
        }
      ]
    },
    {
      "cell_type": "markdown",
      "source": [
        "***Vector Multiplication***"
      ],
      "metadata": {
        "id": "h7OTHs51pMiE"
      }
    },
    {
      "cell_type": "code",
      "source": [
        "np.multiply(A,B)\n",
        "A*B"
      ],
      "metadata": {
        "colab": {
          "base_uri": "https://localhost:8080/"
        },
        "id": "6TIxrv7upPKl",
        "outputId": "5e8d0be4-5e54-4dcb-ae27-782804063d7f"
      },
      "execution_count": 4,
      "outputs": [
        {
          "output_type": "execute_result",
          "data": {
            "text/plain": [
              "array([3, 2, 0])"
            ]
          },
          "metadata": {},
          "execution_count": 4
        }
      ]
    },
    {
      "cell_type": "markdown",
      "source": [
        "***Vector Divide***"
      ],
      "metadata": {
        "id": "CDMGgqGjpTKI"
      }
    },
    {
      "cell_type": "code",
      "source": [
        "np.divide(A,B)\n",
        "A/B\n",
        "\n",
        "C = np.array([3.9,1.8,7.7])\n",
        "D = np.array([1,1,1])\n",
        "C//D\n",
        "\n",
        "np.array(A/B,dtype=int)"
      ],
      "metadata": {
        "colab": {
          "base_uri": "https://localhost:8080/"
        },
        "id": "2TiuwzlqpWa2",
        "outputId": "322308f7-c3d3-4df1-f02a-965d7c3219bb"
      },
      "execution_count": 5,
      "outputs": [
        {
          "output_type": "execute_result",
          "data": {
            "text/plain": [
              "array([0, 2, 0])"
            ]
          },
          "metadata": {},
          "execution_count": 5
        }
      ]
    }
  ]
}