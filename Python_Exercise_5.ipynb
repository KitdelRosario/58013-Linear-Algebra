{
  "nbformat": 4,
  "nbformat_minor": 0,
  "metadata": {
    "colab": {
      "provenance": [],
      "authorship_tag": "ABX9TyOWkEHBC4Ro3aKEy+L3x7SZ",
      "include_colab_link": true
    },
    "kernelspec": {
      "name": "python3",
      "display_name": "Python 3"
    },
    "language_info": {
      "name": "python"
    }
  },
  "cells": [
    {
      "cell_type": "markdown",
      "metadata": {
        "id": "view-in-github",
        "colab_type": "text"
      },
      "source": [
        "<a href=\"https://colab.research.google.com/github/KitdelRosario/58013-Linear-Algebra/blob/main/Python_Exercise_5.ipynb\" target=\"_parent\"><img src=\"https://colab.research.google.com/assets/colab-badge.svg\" alt=\"Open In Colab\"/></a>"
      ]
    },
    {
      "cell_type": "markdown",
      "source": [
        "***Scaling***"
      ],
      "metadata": {
        "id": "Dicqxe9g47cH"
      }
    },
    {
      "cell_type": "code",
      "execution_count": 2,
      "metadata": {
        "colab": {
          "base_uri": "https://localhost:8080/"
        },
        "id": "mQdY841844fd",
        "outputId": "5b316af7-3326-449d-cf0b-4ed4e00748d0"
      },
      "outputs": [
        {
          "output_type": "execute_result",
          "data": {
            "text/plain": [
              "array([ 5, 25, 40, 45])"
            ]
          },
          "metadata": {},
          "execution_count": 2
        }
      ],
      "source": [
        "import numpy as np\n",
        "A = np.array([1,5,8,9])\n",
        "S = 5*A\n",
        "S\n",
        "S = np.multiply(5,A)\n",
        "S"
      ]
    },
    {
      "cell_type": "markdown",
      "source": [
        "***DOT Product***"
      ],
      "metadata": {
        "id": "AbrB6HLD47BZ"
      }
    },
    {
      "cell_type": "code",
      "source": [
        "import numpy as n\n",
        "a = [5, 10, 2]\n",
        "b = [2, 4, 3]\n",
        "dotproduct = n.dot(a,b)\n",
        "print('Dot product is:', dotproduct)"
      ],
      "metadata": {
        "colab": {
          "base_uri": "https://localhost:8080/"
        },
        "id": "Ih6pQmJV5Nzq",
        "outputId": "9079a382-6174-4728-d03c-68e0c18b68a0"
      },
      "execution_count": 4,
      "outputs": [
        {
          "output_type": "stream",
          "name": "stdout",
          "text": [
            "Dot product is: 56\n"
          ]
        }
      ]
    },
    {
      "cell_type": "markdown",
      "source": [
        "***Cross Product***"
      ],
      "metadata": {
        "id": "8FK1PCdR5WDf"
      }
    },
    {
      "cell_type": "code",
      "source": [
        "import numpy as np\n",
        "p = [4, 2]\n",
        "q = [5, 6]\n",
        "product = np.cross(p,q)\n",
        "print(product)"
      ],
      "metadata": {
        "colab": {
          "base_uri": "https://localhost:8080/"
        },
        "id": "V3340CEM5X6Q",
        "outputId": "2510b963-2e5b-4e05-97f1-a109ef27d01f"
      },
      "execution_count": 5,
      "outputs": [
        {
          "output_type": "stream",
          "name": "stdout",
          "text": [
            "14\n"
          ]
        }
      ]
    }
  ]
}