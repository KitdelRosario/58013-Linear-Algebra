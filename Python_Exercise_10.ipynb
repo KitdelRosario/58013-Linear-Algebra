{
  "nbformat": 4,
  "nbformat_minor": 0,
  "metadata": {
    "colab": {
      "provenance": [],
      "authorship_tag": "ABX9TyMmPJOgtecJA1vaPPI/MK/2",
      "include_colab_link": true
    },
    "kernelspec": {
      "name": "python3",
      "display_name": "Python 3"
    },
    "language_info": {
      "name": "python"
    }
  },
  "cells": [
    {
      "cell_type": "markdown",
      "metadata": {
        "id": "view-in-github",
        "colab_type": "text"
      },
      "source": [
        "<a href=\"https://colab.research.google.com/github/KitdelRosario/58013-Linear-Algebra/blob/main/Python_Exercise_10.ipynb\" target=\"_parent\"><img src=\"https://colab.research.google.com/assets/colab-badge.svg\" alt=\"Open In Colab\"/></a>"
      ]
    },
    {
      "cell_type": "code",
      "execution_count": 1,
      "metadata": {
        "colab": {
          "base_uri": "https://localhost:8080/"
        },
        "id": "wZlUOeUcwQye",
        "outputId": "52fc31cb-01be-43f8-cd37-53b614a63125"
      },
      "outputs": [
        {
          "output_type": "stream",
          "name": "stdout",
          "text": [
            "Price per sack of flour: 330.0 pesos\n",
            "Price per pack of yeast: 139.99999999999986 pesos\n",
            "Price per egg: 10.00000000000002 pesos\n"
          ]
        }
      ],
      "source": [
        "import numpy as np\n",
        "\n",
        "A = np.array([[30, 10, 120],\n",
        "              [40, 20, 200],\n",
        "              [50, 40, 360]])\n",
        "\n",
        "B = np.array([12500, 18000, 25700])\n",
        "\n",
        "prices = np.linalg.solve(A, B)\n",
        "\n",
        "flour = prices[0]\n",
        "yeast = prices[1]\n",
        "egg = prices[2]\n",
        "\n",
        "# Print the results\n",
        "print(f\"Price per sack of flour: {flour} pesos\")\n",
        "print(f\"Price per pack of yeast: {yeast} pesos\")\n",
        "print(f\"Price per egg: {egg} pesos\")\n"
      ]
    }
  ]
}